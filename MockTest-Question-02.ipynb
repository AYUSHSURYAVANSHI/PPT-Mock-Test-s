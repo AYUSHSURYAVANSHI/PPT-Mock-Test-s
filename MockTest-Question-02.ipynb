{
 "cells": [
  {
   "cell_type": "code",
   "execution_count": 1,
   "metadata": {},
   "outputs": [],
   "source": [
    "# Question :- Given a string s, find the first non-repeating character in it and return its index. If it does not exist, return -1.\n",
    "\n",
    "# Example 1:\n",
    "# Input: s = \"leetcode\"\n",
    "# Output: 0\n",
    "\n",
    "# Example 2:\n",
    "# Input: s = \"loveleetcode\"\n",
    "# Output: 2\n",
    "\n",
    "# Example 3:\n",
    "# Input: s = \"aabb\"\n",
    "# Output: -1\n",
    "\n",
    "# Constraints:\n",
    "# a. 1 <= s.length <= 10^5\n",
    "# b. s consists of only lowercase English letters.\n",
    "# Answer :-\n",
    "\n",
    "def firstUniqChar(self, s: str) -> int:\n",
    "    count = collections.Counter(s)\n",
    "\n",
    "    for i, c in enumerate(s):\n",
    "        if count[c] == 1:\n",
    "          return i\n",
    "\n",
    "    return -1"
   ]
  },
  {
   "cell_type": "code",
   "execution_count": null,
   "metadata": {},
   "outputs": [],
   "source": []
  }
 ],
 "metadata": {
  "kernelspec": {
   "display_name": "Python 3",
   "language": "python",
   "name": "python3"
  },
  "language_info": {
   "codemirror_mode": {
    "name": "ipython",
    "version": 3
   },
   "file_extension": ".py",
   "mimetype": "text/x-python",
   "name": "python",
   "nbconvert_exporter": "python",
   "pygments_lexer": "ipython3",
   "version": "3.10.11"
  },
  "orig_nbformat": 4
 },
 "nbformat": 4,
 "nbformat_minor": 2
}
