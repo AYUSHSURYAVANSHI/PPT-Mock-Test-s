{
 "cells": [
  {
   "cell_type": "code",
   "execution_count": 8,
   "metadata": {},
   "outputs": [],
   "source": [
    "# Question :- Given an integer array nums, move all 0's to the end of it while maintaining the relative order of the non-zero elements.\n",
    "\n",
    "# Note that you must do this in-place without making a copy of the array.\n",
    "\n",
    "# Example 1:\n",
    "# Input: nums = [0,1,0,3,12]\n",
    "# Output: [1,3,12,0,0]\n",
    "\n",
    "# Example 2:\n",
    "# Input: nums = [0]\n",
    "# Output: [0]\n",
    "\n",
    "# Constraints:\n",
    "# a. 1 <= nums.length <= 10^4\n",
    "# b. -2^31 <= nums[i] <= 2^31 - 1\n",
    "# Answer :-\n",
    "\n",
    "def moveZeroes(self, nums):\n",
    "        left = 0\n",
    "        right = 0\n",
    "\n",
    "        while right < len(nums):\n",
    "            if nums[right] == 0:\n",
    "                right += 1\n",
    "            else :\n",
    "                nums[left] = nums[right]\n",
    "                left += 1\n",
    "                right += 1\n",
    "\n",
    "        while left < len(nums):\n",
    "            nums[left] = 0\n",
    "            left += 1"
   ]
  },
  {
   "cell_type": "code",
   "execution_count": null,
   "metadata": {},
   "outputs": [],
   "source": []
  }
 ],
 "metadata": {
  "kernelspec": {
   "display_name": "Python 3",
   "language": "python",
   "name": "python3"
  },
  "language_info": {
   "codemirror_mode": {
    "name": "ipython",
    "version": 3
   },
   "file_extension": ".py",
   "mimetype": "text/x-python",
   "name": "python",
   "nbconvert_exporter": "python",
   "pygments_lexer": "ipython3",
   "version": "3.10.11"
  },
  "orig_nbformat": 4
 },
 "nbformat": 4,
 "nbformat_minor": 2
}
